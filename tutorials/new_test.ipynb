{
 "cells": [
  {
   "cell_type": "code",
   "execution_count": 1,
   "metadata": {},
   "outputs": [
    {
     "name": "stdout",
     "output_type": "stream",
     "text": [
      "Requirement already satisfied: PyQt6 in c:\\users\\phatl\\onedrive - vnu-hcmus\\desktop\\relative_face_recognition_app\\face_reg\\lib\\site-packages (6.6.1)\n",
      "Requirement already satisfied: PyQt6-sip<14,>=13.6 in c:\\users\\phatl\\onedrive - vnu-hcmus\\desktop\\relative_face_recognition_app\\face_reg\\lib\\site-packages (from PyQt6) (13.6.0)\n",
      "Requirement already satisfied: PyQt6-Qt6>=6.6.0 in c:\\users\\phatl\\onedrive - vnu-hcmus\\desktop\\relative_face_recognition_app\\face_reg\\lib\\site-packages (from PyQt6) (6.6.1)\n"
     ]
    }
   ],
   "source": [
    "!pip install PyQt6\n"
   ]
  },
  {
   "cell_type": "code",
   "execution_count": 2,
   "metadata": {},
   "outputs": [],
   "source": [
    "from PyQt6.QtWidgets import (\n",
    "    QApplication,\n",
    "    QMainWindow,\n",
    "    QLabel,\n",
    "    QLineEdit,\n",
    "    QVBoxLayout,\n",
    "    QWidget,\n",
    ")\n",
    "\n",
    "import sys\n",
    "\n",
    "\n",
    "class MainWindow(QMainWindow):\n",
    "    def __init__(self):\n",
    "        super().__init__()\n",
    "\n",
    "        self.setWindowTitle(\"My App\")\n",
    "\n",
    "        self.label = QLabel()\n",
    "\n",
    "        self.input = QLineEdit()\n",
    "        self.input.textChanged.connect(self.label.setText)\n",
    "\n",
    "        layout = QVBoxLayout()\n",
    "        layout.addWidget(self.input)\n",
    "        layout.addWidget(self.label)\n",
    "\n",
    "        container = QWidget()\n",
    "        container.setLayout(layout)\n",
    "\n",
    "        # Set the central widget of the Window.\n",
    "        self.setCentralWidget(container)\n",
    "\n",
    "\n",
    "app = QApplication(sys.argv)\n",
    "\n",
    "window = MainWindow()\n",
    "window.show()\n",
    "\n",
    "app.exec()\n"
   ]
  }
 ],
 "metadata": {
  "kernelspec": {
   "display_name": "face_reg",
   "language": "python",
   "name": "python3"
  },
  "language_info": {
   "codemirror_mode": {
    "name": "ipython",
    "version": 3
   },
   "file_extension": ".py",
   "mimetype": "text/x-python",
   "name": "python",
   "nbconvert_exporter": "python",
   "pygments_lexer": "ipython3",
   "version": "3.12.1"
  }
 },
 "nbformat": 4,
 "nbformat_minor": 2
}
